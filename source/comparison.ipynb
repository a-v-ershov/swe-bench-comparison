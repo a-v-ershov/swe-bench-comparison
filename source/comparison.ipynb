{
 "cells": [
  {
   "cell_type": "code",
   "execution_count": 27,
   "metadata": {},
   "outputs": [],
   "source": [
    "import pandas as pd\n",
    "\n",
    "from source.utils.model import TestResult\n",
    "from source.utils.repo import LOCAL_SYMPY_REPO_PATH, SYMPY_REPO_URL, get_sympy_dataset, git_clone_repo\n",
    "from source.utils.tester import Tester, process_issue\n",
    "from source.utils.utils import get_credentials, get_logger"
   ]
  },
  {
   "cell_type": "code",
   "execution_count": 2,
   "metadata": {},
   "outputs": [],
   "source": [
    "logger = get_logger(__name__)"
   ]
  },
  {
   "cell_type": "code",
   "execution_count": 40,
   "metadata": {},
   "outputs": [],
   "source": [
    "# Uncomment the following line to clone the sympy repository\n",
    "# git_clone_repo(SYMPY_REPO_URL, LOCAL_SYMPY_REPO_PATH)"
   ]
  },
  {
   "cell_type": "markdown",
   "metadata": {},
   "source": [
    "### Create test logic instance"
   ]
  },
  {
   "cell_type": "code",
   "execution_count": 4,
   "metadata": {},
   "outputs": [],
   "source": [
    "credentials = get_credentials()\n",
    "tester = Tester(credentials=credentials)"
   ]
  },
  {
   "cell_type": "markdown",
   "metadata": {},
   "source": [
    "### Create SWE Bench dataset"
   ]
  },
  {
   "cell_type": "code",
   "execution_count": 5,
   "metadata": {},
   "outputs": [],
   "source": [
    "df = get_sympy_dataset()"
   ]
  },
  {
   "cell_type": "markdown",
   "metadata": {},
   "source": [
    "### Process test logic"
   ]
  },
  {
   "cell_type": "code",
   "execution_count": null,
   "metadata": {},
   "outputs": [],
   "source": [
    "issues = df.iloc[:10,:]\n",
    "test_cases = []\n",
    "for i in range(10):\n",
    "    logger.info(f\"Processing issue {i}\")\n",
    "    issue = issues.iloc[i,:]\n",
    "    test_case = await process_issue(issue, tester)\n",
    "    test_cases.append(test_case)"
   ]
  },
  {
   "cell_type": "code",
   "execution_count": null,
   "metadata": {},
   "outputs": [],
   "source": [
    "test_result_df = pd.DataFrame([tc.create_comparison_record(issues.iloc[ind]) for ind, tc in enumerate(test_cases)])\n",
    "test_result_df.to_csv(\"./data/test_result.csv\", index=False)"
   ]
  },
  {
   "cell_type": "markdown",
   "metadata": {},
   "source": [
    "### Example of OpenAI, DeepSeek and original solution"
   ]
  },
  {
   "cell_type": "code",
   "execution_count": 33,
   "metadata": {},
   "outputs": [
    {
     "name": "stdout",
     "output_type": "stream",
     "text": [
      "openai_patch:\n",
      "\n",
      "diff --git a/sympy/printing/ccode.py b/sympy/printing/ccode.py\n",
      "index abcdef1..1234567 100644\n",
      "--- a/sympy/printing/ccode.py\n",
      "+++ b/sympy/printing/ccode.py\n",
      "@@ -30,6 +30,7 @@ known_functions = {\n",
      "     \"cos\": \"cos\",\n",
      "     \"tan\": \"tan\",\n",
      "     \"asin\": \"asin\",\n",
      "     \"acos\": \"acos\",\n",
      "     \"atan\": \"atan\",\n",
      "+    \"sinc\": \"(sin(%s)/(%s))\"\n",
      "     ...\n",
      " }\n",
      "\n",
      " class CCodePrinter(CodePrinter):\n",
      "     ...\n",
      " \n",
      "\n",
      "\n",
      "\n",
      "deepseek_patch:\n",
      "\n",
      "diff --git a/sympy/printing/ccode.py b/sympy/printing/ccode.py\n",
      "index 6b0c9f7..f7f8d1e 100644\n",
      "--- a/sympy/printing/ccode.py\n",
      "+++ b/sympy/printing/ccode.py\n",
      "@@ -65,6 +65,7 @@\n",
      "     \"sinh\": \"sinh\",\n",
      "     \"cosh\": \"cosh\",\n",
      "     \"tanh\": \"tanh\",\n",
      "+    \"sinc\": [(lambda x: not x.is_zero, \"sin(x)/x\"), (lambda x: x.is_zero, \"1\")],\n",
      "     \"asinh\": \"asinh\",\n",
      "     \"acosh\": \"acosh\",\n",
      "     \"atanh\": \"atanh\",\n",
      "\n",
      "\n",
      "\n",
      "\n",
      "correct_patch:\n",
      "\n",
      "diff --git a/sympy/printing/ccode.py b/sympy/printing/ccode.py\n",
      "--- a/sympy/printing/ccode.py\n",
      "+++ b/sympy/printing/ccode.py\n",
      "@@ -231,6 +231,20 @@ def _print_Symbol(self, expr):\n",
      "         else:\n",
      "             return name\n",
      " \n",
      "+    def _print_Relational(self, expr):\n",
      "+        lhs_code = self._print(expr.lhs)\n",
      "+        rhs_code = self._print(expr.rhs)\n",
      "+        op = expr.rel_op\n",
      "+        return (\"{0} {1} {2}\").format(lhs_code, op, rhs_code)\n",
      "+\n",
      "+    def _print_sinc(self, expr):\n",
      "+        from sympy.functions.elementary.trigonometric import sin\n",
      "+        from sympy.core.relational import Ne\n",
      "+        from sympy.functions import Piecewise\n",
      "+        _piecewise = Piecewise(\n",
      "+            (sin(expr.args[0]) / expr.args[0], Ne(expr.args[0], 0)), (1, True))\n",
      "+        return self._print(_piecewise)\n",
      "+\n",
      "     def _print_AugmentedAssignment(self, expr):\n",
      "         lhs_code = self._print(expr.lhs)\n",
      "         op = expr.rel_op\n",
      "\n",
      "\n",
      "\n",
      "\n",
      "openai_solution_description:\n",
      "\n",
      "Add a mapping for the 'sinc' function in the known_functions dictionary, so it gets converted to 'sin(x)/x' for output in C code.\n",
      "\n",
      "\n",
      "\n",
      "deepseek_solution_description:\n",
      "\n",
      "Added the `sinc` function to the `known_functions` dictionary in `ccode.py` to handle it as a piecewise function. This way, the `ccode` function can generate the correct C code for `sinc(x)`.\n",
      "\n",
      "\n",
      "\n"
     ]
    }
   ],
   "source": [
    "solution_example = test_result_df[TestResult.get_keys_for_solutions()].iloc[0]\n",
    "for key, value in solution_example.items():\n",
    "    print(f\"{key}:\\n\\n{value}\\n\\n\\n\")"
   ]
  },
  {
   "cell_type": "markdown",
   "metadata": {},
   "source": [
    "### Correctness test\n",
    "`openai_deepseek_correct` means that OpenAI GPT-4o-mini model tested a DeepSeek V3's solution"
   ]
  },
  {
   "cell_type": "code",
   "execution_count": 28,
   "metadata": {},
   "outputs": [
    {
     "data": {
      "text/html": [
       "<div>\n",
       "<style scoped>\n",
       "    .dataframe tbody tr th:only-of-type {\n",
       "        vertical-align: middle;\n",
       "    }\n",
       "\n",
       "    .dataframe tbody tr th {\n",
       "        vertical-align: top;\n",
       "    }\n",
       "\n",
       "    .dataframe thead th {\n",
       "        text-align: right;\n",
       "    }\n",
       "</style>\n",
       "<table border=\"1\" class=\"dataframe\">\n",
       "  <thead>\n",
       "    <tr style=\"text-align: right;\">\n",
       "      <th></th>\n",
       "      <th>openai_openai_correct</th>\n",
       "      <th>openai_deepseek_correct</th>\n",
       "      <th>deepseek_openai_correct</th>\n",
       "      <th>deepseek_deepseek_correct</th>\n",
       "    </tr>\n",
       "  </thead>\n",
       "  <tbody>\n",
       "    <tr>\n",
       "      <th>0</th>\n",
       "      <td>False</td>\n",
       "      <td>True</td>\n",
       "      <td>False</td>\n",
       "      <td>False</td>\n",
       "    </tr>\n",
       "    <tr>\n",
       "      <th>1</th>\n",
       "      <td>False</td>\n",
       "      <td>True</td>\n",
       "      <td>False</td>\n",
       "      <td>False</td>\n",
       "    </tr>\n",
       "    <tr>\n",
       "      <th>2</th>\n",
       "      <td>False</td>\n",
       "      <td>True</td>\n",
       "      <td>False</td>\n",
       "      <td>False</td>\n",
       "    </tr>\n",
       "    <tr>\n",
       "      <th>3</th>\n",
       "      <td>True</td>\n",
       "      <td>True</td>\n",
       "      <td>False</td>\n",
       "      <td>True</td>\n",
       "    </tr>\n",
       "    <tr>\n",
       "      <th>4</th>\n",
       "      <td>False</td>\n",
       "      <td>True</td>\n",
       "      <td>False</td>\n",
       "      <td>False</td>\n",
       "    </tr>\n",
       "    <tr>\n",
       "      <th>5</th>\n",
       "      <td>False</td>\n",
       "      <td>False</td>\n",
       "      <td>False</td>\n",
       "      <td>False</td>\n",
       "    </tr>\n",
       "    <tr>\n",
       "      <th>6</th>\n",
       "      <td>True</td>\n",
       "      <td>False</td>\n",
       "      <td>True</td>\n",
       "      <td>False</td>\n",
       "    </tr>\n",
       "    <tr>\n",
       "      <th>7</th>\n",
       "      <td>False</td>\n",
       "      <td>False</td>\n",
       "      <td>False</td>\n",
       "      <td>False</td>\n",
       "    </tr>\n",
       "    <tr>\n",
       "      <th>8</th>\n",
       "      <td>False</td>\n",
       "      <td>True</td>\n",
       "      <td>False</td>\n",
       "      <td>True</td>\n",
       "    </tr>\n",
       "    <tr>\n",
       "      <th>9</th>\n",
       "      <td>True</td>\n",
       "      <td>True</td>\n",
       "      <td>False</td>\n",
       "      <td>False</td>\n",
       "    </tr>\n",
       "  </tbody>\n",
       "</table>\n",
       "</div>"
      ],
      "text/plain": [
       "   openai_openai_correct  openai_deepseek_correct  deepseek_openai_correct  \\\n",
       "0                  False                     True                    False   \n",
       "1                  False                     True                    False   \n",
       "2                  False                     True                    False   \n",
       "3                   True                     True                    False   \n",
       "4                  False                     True                    False   \n",
       "5                  False                    False                    False   \n",
       "6                   True                    False                     True   \n",
       "7                  False                    False                    False   \n",
       "8                  False                     True                    False   \n",
       "9                   True                     True                    False   \n",
       "\n",
       "   deepseek_deepseek_correct  \n",
       "0                      False  \n",
       "1                      False  \n",
       "2                      False  \n",
       "3                       True  \n",
       "4                      False  \n",
       "5                      False  \n",
       "6                      False  \n",
       "7                      False  \n",
       "8                       True  \n",
       "9                      False  "
      ]
     },
     "execution_count": 28,
     "metadata": {},
     "output_type": "execute_result"
    }
   ],
   "source": [
    "test_result_df[TestResult.get_keys_for_correctness()]"
   ]
  },
  {
   "cell_type": "markdown",
   "metadata": {},
   "source": [
    "### Count number of correct solutions"
   ]
  },
  {
   "cell_type": "code",
   "execution_count": 29,
   "metadata": {},
   "outputs": [
    {
     "data": {
      "text/plain": [
       "openai_openai_correct        3\n",
       "openai_deepseek_correct      7\n",
       "deepseek_openai_correct      1\n",
       "deepseek_deepseek_correct    2\n",
       "dtype: int64"
      ]
     },
     "execution_count": 29,
     "metadata": {},
     "output_type": "execute_result"
    }
   ],
   "source": [
    "test_result_df[TestResult.get_keys_for_correctness()].sum()"
   ]
  },
  {
   "cell_type": "markdown",
   "metadata": {},
   "source": [
    "### Solution scores"
   ]
  },
  {
   "cell_type": "code",
   "execution_count": 34,
   "metadata": {},
   "outputs": [
    {
     "data": {
      "text/html": [
       "<div>\n",
       "<style scoped>\n",
       "    .dataframe tbody tr th:only-of-type {\n",
       "        vertical-align: middle;\n",
       "    }\n",
       "\n",
       "    .dataframe tbody tr th {\n",
       "        vertical-align: top;\n",
       "    }\n",
       "\n",
       "    .dataframe thead th {\n",
       "        text-align: right;\n",
       "    }\n",
       "</style>\n",
       "<table border=\"1\" class=\"dataframe\">\n",
       "  <thead>\n",
       "    <tr style=\"text-align: right;\">\n",
       "      <th></th>\n",
       "      <th>openai_openai_score</th>\n",
       "      <th>openai_deepseek_score</th>\n",
       "      <th>deepseek_openai_score</th>\n",
       "      <th>deepseek_deepseek_score</th>\n",
       "    </tr>\n",
       "  </thead>\n",
       "  <tbody>\n",
       "    <tr>\n",
       "      <th>0</th>\n",
       "      <td>3</td>\n",
       "      <td>4</td>\n",
       "      <td>2</td>\n",
       "      <td>3</td>\n",
       "    </tr>\n",
       "    <tr>\n",
       "      <th>1</th>\n",
       "      <td>2</td>\n",
       "      <td>5</td>\n",
       "      <td>2</td>\n",
       "      <td>3</td>\n",
       "    </tr>\n",
       "    <tr>\n",
       "      <th>2</th>\n",
       "      <td>2</td>\n",
       "      <td>4</td>\n",
       "      <td>1</td>\n",
       "      <td>3</td>\n",
       "    </tr>\n",
       "    <tr>\n",
       "      <th>3</th>\n",
       "      <td>5</td>\n",
       "      <td>4</td>\n",
       "      <td>2</td>\n",
       "      <td>4</td>\n",
       "    </tr>\n",
       "    <tr>\n",
       "      <th>4</th>\n",
       "      <td>2</td>\n",
       "      <td>4</td>\n",
       "      <td>1</td>\n",
       "      <td>3</td>\n",
       "    </tr>\n",
       "    <tr>\n",
       "      <th>5</th>\n",
       "      <td>2</td>\n",
       "      <td>1</td>\n",
       "      <td>2</td>\n",
       "      <td>1</td>\n",
       "    </tr>\n",
       "    <tr>\n",
       "      <th>6</th>\n",
       "      <td>5</td>\n",
       "      <td>1</td>\n",
       "      <td>5</td>\n",
       "      <td>1</td>\n",
       "    </tr>\n",
       "    <tr>\n",
       "      <th>7</th>\n",
       "      <td>1</td>\n",
       "      <td>2</td>\n",
       "      <td>1</td>\n",
       "      <td>1</td>\n",
       "    </tr>\n",
       "    <tr>\n",
       "      <th>8</th>\n",
       "      <td>2</td>\n",
       "      <td>5</td>\n",
       "      <td>1</td>\n",
       "      <td>4</td>\n",
       "    </tr>\n",
       "    <tr>\n",
       "      <th>9</th>\n",
       "      <td>4</td>\n",
       "      <td>5</td>\n",
       "      <td>1</td>\n",
       "      <td>3</td>\n",
       "    </tr>\n",
       "  </tbody>\n",
       "</table>\n",
       "</div>"
      ],
      "text/plain": [
       "   openai_openai_score  openai_deepseek_score  deepseek_openai_score  \\\n",
       "0                    3                      4                      2   \n",
       "1                    2                      5                      2   \n",
       "2                    2                      4                      1   \n",
       "3                    5                      4                      2   \n",
       "4                    2                      4                      1   \n",
       "5                    2                      1                      2   \n",
       "6                    5                      1                      5   \n",
       "7                    1                      2                      1   \n",
       "8                    2                      5                      1   \n",
       "9                    4                      5                      1   \n",
       "\n",
       "   deepseek_deepseek_score  \n",
       "0                        3  \n",
       "1                        3  \n",
       "2                        3  \n",
       "3                        4  \n",
       "4                        3  \n",
       "5                        1  \n",
       "6                        1  \n",
       "7                        1  \n",
       "8                        4  \n",
       "9                        3  "
      ]
     },
     "execution_count": 34,
     "metadata": {},
     "output_type": "execute_result"
    }
   ],
   "source": [
    "test_result_df[TestResult.get_keys_for_test_scores()]"
   ]
  },
  {
   "cell_type": "markdown",
   "metadata": {},
   "source": [
    "### Average scores"
   ]
  },
  {
   "cell_type": "code",
   "execution_count": 35,
   "metadata": {},
   "outputs": [
    {
     "data": {
      "text/plain": [
       "openai_openai_score        2.8\n",
       "openai_deepseek_score      3.5\n",
       "deepseek_openai_score      1.8\n",
       "deepseek_deepseek_score    2.6\n",
       "dtype: float64"
      ]
     },
     "execution_count": 35,
     "metadata": {},
     "output_type": "execute_result"
    }
   ],
   "source": [
    "test_result_df[TestResult.get_keys_for_test_scores()].mean()"
   ]
  },
  {
   "cell_type": "markdown",
   "metadata": {},
   "source": [
    "### Number of steps to come up with a solution"
   ]
  },
  {
   "cell_type": "code",
   "execution_count": 36,
   "metadata": {},
   "outputs": [
    {
     "data": {
      "text/html": [
       "<div>\n",
       "<style scoped>\n",
       "    .dataframe tbody tr th:only-of-type {\n",
       "        vertical-align: middle;\n",
       "    }\n",
       "\n",
       "    .dataframe tbody tr th {\n",
       "        vertical-align: top;\n",
       "    }\n",
       "\n",
       "    .dataframe thead th {\n",
       "        text-align: right;\n",
       "    }\n",
       "</style>\n",
       "<table border=\"1\" class=\"dataframe\">\n",
       "  <thead>\n",
       "    <tr style=\"text-align: right;\">\n",
       "      <th></th>\n",
       "      <th>openai_num_steps</th>\n",
       "      <th>deepseek_num_steps</th>\n",
       "    </tr>\n",
       "  </thead>\n",
       "  <tbody>\n",
       "    <tr>\n",
       "      <th>0</th>\n",
       "      <td>3</td>\n",
       "      <td>3</td>\n",
       "    </tr>\n",
       "    <tr>\n",
       "      <th>1</th>\n",
       "      <td>3</td>\n",
       "      <td>3</td>\n",
       "    </tr>\n",
       "    <tr>\n",
       "      <th>2</th>\n",
       "      <td>3</td>\n",
       "      <td>3</td>\n",
       "    </tr>\n",
       "    <tr>\n",
       "      <th>3</th>\n",
       "      <td>1</td>\n",
       "      <td>2</td>\n",
       "    </tr>\n",
       "    <tr>\n",
       "      <th>4</th>\n",
       "      <td>3</td>\n",
       "      <td>3</td>\n",
       "    </tr>\n",
       "    <tr>\n",
       "      <th>5</th>\n",
       "      <td>3</td>\n",
       "      <td>3</td>\n",
       "    </tr>\n",
       "    <tr>\n",
       "      <th>6</th>\n",
       "      <td>2</td>\n",
       "      <td>0</td>\n",
       "    </tr>\n",
       "    <tr>\n",
       "      <th>7</th>\n",
       "      <td>3</td>\n",
       "      <td>3</td>\n",
       "    </tr>\n",
       "    <tr>\n",
       "      <th>8</th>\n",
       "      <td>3</td>\n",
       "      <td>3</td>\n",
       "    </tr>\n",
       "    <tr>\n",
       "      <th>9</th>\n",
       "      <td>3</td>\n",
       "      <td>3</td>\n",
       "    </tr>\n",
       "  </tbody>\n",
       "</table>\n",
       "</div>"
      ],
      "text/plain": [
       "   openai_num_steps  deepseek_num_steps\n",
       "0                 3                   3\n",
       "1                 3                   3\n",
       "2                 3                   3\n",
       "3                 1                   2\n",
       "4                 3                   3\n",
       "5                 3                   3\n",
       "6                 2                   0\n",
       "7                 3                   3\n",
       "8                 3                   3\n",
       "9                 3                   3"
      ]
     },
     "execution_count": 36,
     "metadata": {},
     "output_type": "execute_result"
    }
   ],
   "source": [
    "test_result_df[TestResult.get_keys_for_steps()]"
   ]
  },
  {
   "cell_type": "markdown",
   "metadata": {},
   "source": [
    "### Average number of steps"
   ]
  },
  {
   "cell_type": "code",
   "execution_count": 37,
   "metadata": {},
   "outputs": [
    {
     "data": {
      "text/plain": [
       "openai_num_steps      2.7\n",
       "deepseek_num_steps    2.6\n",
       "dtype: float64"
      ]
     },
     "execution_count": 37,
     "metadata": {},
     "output_type": "execute_result"
    }
   ],
   "source": [
    "test_result_df[TestResult.get_keys_for_steps()].mean()"
   ]
  },
  {
   "cell_type": "markdown",
   "metadata": {},
   "source": [
    "### Number of used tokens for retriever and solver steps"
   ]
  },
  {
   "cell_type": "code",
   "execution_count": 38,
   "metadata": {},
   "outputs": [
    {
     "data": {
      "text/html": [
       "<div>\n",
       "<style scoped>\n",
       "    .dataframe tbody tr th:only-of-type {\n",
       "        vertical-align: middle;\n",
       "    }\n",
       "\n",
       "    .dataframe tbody tr th {\n",
       "        vertical-align: top;\n",
       "    }\n",
       "\n",
       "    .dataframe thead th {\n",
       "        text-align: right;\n",
       "    }\n",
       "</style>\n",
       "<table border=\"1\" class=\"dataframe\">\n",
       "  <thead>\n",
       "    <tr style=\"text-align: right;\">\n",
       "      <th></th>\n",
       "      <th>openai_input_tokens_retriever</th>\n",
       "      <th>deepseek_input_tokens_retriever</th>\n",
       "      <th>openai_output_tokens_retriever</th>\n",
       "      <th>deepseek_output_tokens_retriever</th>\n",
       "      <th>openai_input_tokens_solver</th>\n",
       "      <th>deepseek_input_tokens_solver</th>\n",
       "      <th>openai_output_tokens_solver</th>\n",
       "      <th>deepseek_output_tokens_solver</th>\n",
       "    </tr>\n",
       "  </thead>\n",
       "  <tbody>\n",
       "    <tr>\n",
       "      <th>0</th>\n",
       "      <td>15517</td>\n",
       "      <td>17131</td>\n",
       "      <td>176</td>\n",
       "      <td>144</td>\n",
       "      <td>7351</td>\n",
       "      <td>7624</td>\n",
       "      <td>580</td>\n",
       "      <td>870</td>\n",
       "    </tr>\n",
       "    <tr>\n",
       "      <th>1</th>\n",
       "      <td>17120</td>\n",
       "      <td>18962</td>\n",
       "      <td>719</td>\n",
       "      <td>228</td>\n",
       "      <td>9764</td>\n",
       "      <td>5053</td>\n",
       "      <td>611</td>\n",
       "      <td>1435</td>\n",
       "    </tr>\n",
       "    <tr>\n",
       "      <th>2</th>\n",
       "      <td>18261</td>\n",
       "      <td>19772</td>\n",
       "      <td>614</td>\n",
       "      <td>150</td>\n",
       "      <td>11619</td>\n",
       "      <td>4535</td>\n",
       "      <td>382</td>\n",
       "      <td>194</td>\n",
       "    </tr>\n",
       "    <tr>\n",
       "      <th>3</th>\n",
       "      <td>15852</td>\n",
       "      <td>17612</td>\n",
       "      <td>297</td>\n",
       "      <td>90</td>\n",
       "      <td>929</td>\n",
       "      <td>3931</td>\n",
       "      <td>305</td>\n",
       "      <td>553</td>\n",
       "    </tr>\n",
       "    <tr>\n",
       "      <th>4</th>\n",
       "      <td>22353</td>\n",
       "      <td>24761</td>\n",
       "      <td>736</td>\n",
       "      <td>657</td>\n",
       "      <td>16099</td>\n",
       "      <td>10027</td>\n",
       "      <td>361</td>\n",
       "      <td>432</td>\n",
       "    </tr>\n",
       "    <tr>\n",
       "      <th>5</th>\n",
       "      <td>23938</td>\n",
       "      <td>26667</td>\n",
       "      <td>497</td>\n",
       "      <td>464</td>\n",
       "      <td>15982</td>\n",
       "      <td>12672</td>\n",
       "      <td>574</td>\n",
       "      <td>568</td>\n",
       "    </tr>\n",
       "    <tr>\n",
       "      <th>6</th>\n",
       "      <td>16905</td>\n",
       "      <td>0</td>\n",
       "      <td>183</td>\n",
       "      <td>0</td>\n",
       "      <td>4765</td>\n",
       "      <td>0</td>\n",
       "      <td>494</td>\n",
       "      <td>0</td>\n",
       "    </tr>\n",
       "    <tr>\n",
       "      <th>7</th>\n",
       "      <td>15396</td>\n",
       "      <td>17072</td>\n",
       "      <td>222</td>\n",
       "      <td>98</td>\n",
       "      <td>8785</td>\n",
       "      <td>4558</td>\n",
       "      <td>396</td>\n",
       "      <td>306</td>\n",
       "    </tr>\n",
       "    <tr>\n",
       "      <th>8</th>\n",
       "      <td>18158</td>\n",
       "      <td>20293</td>\n",
       "      <td>604</td>\n",
       "      <td>266</td>\n",
       "      <td>10790</td>\n",
       "      <td>10682</td>\n",
       "      <td>396</td>\n",
       "      <td>1298</td>\n",
       "    </tr>\n",
       "    <tr>\n",
       "      <th>9</th>\n",
       "      <td>15675</td>\n",
       "      <td>17380</td>\n",
       "      <td>486</td>\n",
       "      <td>99</td>\n",
       "      <td>7890</td>\n",
       "      <td>3936</td>\n",
       "      <td>648</td>\n",
       "      <td>388</td>\n",
       "    </tr>\n",
       "  </tbody>\n",
       "</table>\n",
       "</div>"
      ],
      "text/plain": [
       "   openai_input_tokens_retriever  deepseek_input_tokens_retriever  \\\n",
       "0                          15517                            17131   \n",
       "1                          17120                            18962   \n",
       "2                          18261                            19772   \n",
       "3                          15852                            17612   \n",
       "4                          22353                            24761   \n",
       "5                          23938                            26667   \n",
       "6                          16905                                0   \n",
       "7                          15396                            17072   \n",
       "8                          18158                            20293   \n",
       "9                          15675                            17380   \n",
       "\n",
       "   openai_output_tokens_retriever  deepseek_output_tokens_retriever  \\\n",
       "0                             176                               144   \n",
       "1                             719                               228   \n",
       "2                             614                               150   \n",
       "3                             297                                90   \n",
       "4                             736                               657   \n",
       "5                             497                               464   \n",
       "6                             183                                 0   \n",
       "7                             222                                98   \n",
       "8                             604                               266   \n",
       "9                             486                                99   \n",
       "\n",
       "   openai_input_tokens_solver  deepseek_input_tokens_solver  \\\n",
       "0                        7351                          7624   \n",
       "1                        9764                          5053   \n",
       "2                       11619                          4535   \n",
       "3                         929                          3931   \n",
       "4                       16099                         10027   \n",
       "5                       15982                         12672   \n",
       "6                        4765                             0   \n",
       "7                        8785                          4558   \n",
       "8                       10790                         10682   \n",
       "9                        7890                          3936   \n",
       "\n",
       "   openai_output_tokens_solver  deepseek_output_tokens_solver  \n",
       "0                          580                            870  \n",
       "1                          611                           1435  \n",
       "2                          382                            194  \n",
       "3                          305                            553  \n",
       "4                          361                            432  \n",
       "5                          574                            568  \n",
       "6                          494                              0  \n",
       "7                          396                            306  \n",
       "8                          396                           1298  \n",
       "9                          648                            388  "
      ]
     },
     "execution_count": 38,
     "metadata": {},
     "output_type": "execute_result"
    }
   ],
   "source": [
    "test_result_df[TestResult.get_keys_for_used_tokens()]"
   ]
  },
  {
   "cell_type": "markdown",
   "metadata": {},
   "source": [
    "### Average number of used tokens"
   ]
  },
  {
   "cell_type": "code",
   "execution_count": 39,
   "metadata": {},
   "outputs": [
    {
     "data": {
      "text/plain": [
       "openai_input_tokens_retriever       17917.5\n",
       "deepseek_input_tokens_retriever     17965.0\n",
       "openai_output_tokens_retriever        453.4\n",
       "deepseek_output_tokens_retriever      219.6\n",
       "openai_input_tokens_solver           9397.4\n",
       "deepseek_input_tokens_solver         6301.8\n",
       "openai_output_tokens_solver           474.7\n",
       "deepseek_output_tokens_solver         604.4\n",
       "dtype: float64"
      ]
     },
     "execution_count": 39,
     "metadata": {},
     "output_type": "execute_result"
    }
   ],
   "source": [
    "test_result_df[TestResult.get_keys_for_used_tokens()].mean()"
   ]
  }
 ],
 "metadata": {
  "kernelspec": {
   "display_name": "Python 3",
   "language": "python",
   "name": "python3"
  },
  "language_info": {
   "codemirror_mode": {
    "name": "ipython",
    "version": 3
   },
   "file_extension": ".py",
   "mimetype": "text/x-python",
   "name": "python",
   "nbconvert_exporter": "python",
   "pygments_lexer": "ipython3",
   "version": "3.12.6"
  }
 },
 "nbformat": 4,
 "nbformat_minor": 2
}
